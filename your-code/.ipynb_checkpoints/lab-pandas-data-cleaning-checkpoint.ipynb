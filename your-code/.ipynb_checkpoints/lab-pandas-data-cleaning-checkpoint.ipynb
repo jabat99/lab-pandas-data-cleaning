{
 "cells": [
  {
   "cell_type": "markdown",
   "metadata": {},
   "source": [
    "#### 1. Import pandas library"
   ]
  },
  {
   "cell_type": "code",
   "execution_count": 1,
   "metadata": {},
   "outputs": [],
   "source": [
    "import pandas as pd"
   ]
  },
  {
   "cell_type": "markdown",
   "metadata": {},
   "source": [
    "#### 2. Load data (users.csv, posts.csv)"
   ]
  },
  {
   "cell_type": "code",
   "execution_count": 2,
   "metadata": {},
   "outputs": [],
   "source": [
    "users = pd.read_csv(r\"./users.csv\")"
   ]
  },
  {
   "cell_type": "code",
   "execution_count": 3,
   "metadata": {},
   "outputs": [],
   "source": [
    "posts = pd.read_csv(r\"./posts.csv\")"
   ]
  },
  {
   "cell_type": "markdown",
   "metadata": {},
   "source": [
    "#### 3. Rename id column to user_id"
   ]
  },
  {
   "cell_type": "code",
   "execution_count": 4,
   "metadata": {
    "scrolled": true
   },
   "outputs": [
    {
     "data": {
      "text/html": [
       "<div>\n",
       "<style scoped>\n",
       "    .dataframe tbody tr th:only-of-type {\n",
       "        vertical-align: middle;\n",
       "    }\n",
       "\n",
       "    .dataframe tbody tr th {\n",
       "        vertical-align: top;\n",
       "    }\n",
       "\n",
       "    .dataframe thead th {\n",
       "        text-align: right;\n",
       "    }\n",
       "</style>\n",
       "<table border=\"1\" class=\"dataframe\">\n",
       "  <thead>\n",
       "    <tr style=\"text-align: right;\">\n",
       "      <th></th>\n",
       "      <th>Unnamed: 0</th>\n",
       "      <th>id</th>\n",
       "      <th>display_name</th>\n",
       "      <th>about_me</th>\n",
       "      <th>age</th>\n",
       "      <th>creation_date</th>\n",
       "      <th>last_access_date</th>\n",
       "      <th>location</th>\n",
       "      <th>reputation</th>\n",
       "      <th>up_votes</th>\n",
       "      <th>down_votes</th>\n",
       "      <th>views</th>\n",
       "      <th>profile_image_url</th>\n",
       "      <th>website_url</th>\n",
       "    </tr>\n",
       "  </thead>\n",
       "  <tbody>\n",
       "    <tr>\n",
       "      <th>0</th>\n",
       "      <td>0</td>\n",
       "      <td>107658</td>\n",
       "      <td>ivordesign</td>\n",
       "      <td>NaN</td>\n",
       "      <td>NaN</td>\n",
       "      <td>2009-05-15 12:21:51.230000+00:00</td>\n",
       "      <td>2014-08-28 17:43:18.040000+00:00</td>\n",
       "      <td>United Kingdom</td>\n",
       "      <td>305</td>\n",
       "      <td>2</td>\n",
       "      <td>0</td>\n",
       "      <td>91</td>\n",
       "      <td>NaN</td>\n",
       "      <td>http://www.ivorthedesigner.co.uk</td>\n",
       "    </tr>\n",
       "    <tr>\n",
       "      <th>1</th>\n",
       "      <td>1</td>\n",
       "      <td>218597</td>\n",
       "      <td>icabod</td>\n",
       "      <td>NaN</td>\n",
       "      <td>NaN</td>\n",
       "      <td>2009-11-25 13:30:42.460000+00:00</td>\n",
       "      <td>2020-05-29 11:44:18.140000+00:00</td>\n",
       "      <td>United Kingdom</td>\n",
       "      <td>6559</td>\n",
       "      <td>361</td>\n",
       "      <td>25</td>\n",
       "      <td>374</td>\n",
       "      <td>NaN</td>\n",
       "      <td>http://icablog.org/</td>\n",
       "    </tr>\n",
       "    <tr>\n",
       "      <th>2</th>\n",
       "      <td>2</td>\n",
       "      <td>326360</td>\n",
       "      <td>rbaker86</td>\n",
       "      <td>&lt;p&gt;Software developer and technology enthusias...</td>\n",
       "      <td>NaN</td>\n",
       "      <td>2010-04-26 21:18:19.857000+00:00</td>\n",
       "      <td>2017-12-04 16:49:29.297000+00:00</td>\n",
       "      <td>United Kingdom</td>\n",
       "      <td>1802</td>\n",
       "      <td>40</td>\n",
       "      <td>14</td>\n",
       "      <td>97</td>\n",
       "      <td>NaN</td>\n",
       "      <td>http://na</td>\n",
       "    </tr>\n",
       "    <tr>\n",
       "      <th>3</th>\n",
       "      <td>3</td>\n",
       "      <td>379556</td>\n",
       "      <td>Rui Marques</td>\n",
       "      <td>&lt;p&gt;Engineer and Automation Architect at Vonage...</td>\n",
       "      <td>NaN</td>\n",
       "      <td>2010-06-29 23:32:49.870000+00:00</td>\n",
       "      <td>2020-05-28 14:49:23.427000+00:00</td>\n",
       "      <td>United Kingdom</td>\n",
       "      <td>2335</td>\n",
       "      <td>125</td>\n",
       "      <td>10</td>\n",
       "      <td>261</td>\n",
       "      <td>NaN</td>\n",
       "      <td>http://ruimarques.io</td>\n",
       "    </tr>\n",
       "    <tr>\n",
       "      <th>4</th>\n",
       "      <td>4</td>\n",
       "      <td>450456</td>\n",
       "      <td>Jules</td>\n",
       "      <td>NaN</td>\n",
       "      <td>NaN</td>\n",
       "      <td>2010-09-17 09:47:09.397000+00:00</td>\n",
       "      <td>2020-05-13 07:03:58.113000+00:00</td>\n",
       "      <td>United Kingdom</td>\n",
       "      <td>7746</td>\n",
       "      <td>256</td>\n",
       "      <td>50</td>\n",
       "      <td>3598</td>\n",
       "      <td>https://i.stack.imgur.com/4Y8Zf.jpg?s=128&amp;g=1</td>\n",
       "      <td>https://www.julesmoorhouse.com</td>\n",
       "    </tr>\n",
       "  </tbody>\n",
       "</table>\n",
       "</div>"
      ],
      "text/plain": [
       "   Unnamed: 0      id display_name  \\\n",
       "0           0  107658   ivordesign   \n",
       "1           1  218597       icabod   \n",
       "2           2  326360     rbaker86   \n",
       "3           3  379556  Rui Marques   \n",
       "4           4  450456        Jules   \n",
       "\n",
       "                                            about_me  age  \\\n",
       "0                                                NaN  NaN   \n",
       "1                                                NaN  NaN   \n",
       "2  <p>Software developer and technology enthusias...  NaN   \n",
       "3  <p>Engineer and Automation Architect at Vonage...  NaN   \n",
       "4                                                NaN  NaN   \n",
       "\n",
       "                      creation_date                  last_access_date  \\\n",
       "0  2009-05-15 12:21:51.230000+00:00  2014-08-28 17:43:18.040000+00:00   \n",
       "1  2009-11-25 13:30:42.460000+00:00  2020-05-29 11:44:18.140000+00:00   \n",
       "2  2010-04-26 21:18:19.857000+00:00  2017-12-04 16:49:29.297000+00:00   \n",
       "3  2010-06-29 23:32:49.870000+00:00  2020-05-28 14:49:23.427000+00:00   \n",
       "4  2010-09-17 09:47:09.397000+00:00  2020-05-13 07:03:58.113000+00:00   \n",
       "\n",
       "         location  reputation  up_votes  down_votes  views  \\\n",
       "0  United Kingdom         305         2           0     91   \n",
       "1  United Kingdom        6559       361          25    374   \n",
       "2  United Kingdom        1802        40          14     97   \n",
       "3  United Kingdom        2335       125          10    261   \n",
       "4  United Kingdom        7746       256          50   3598   \n",
       "\n",
       "                               profile_image_url  \\\n",
       "0                                            NaN   \n",
       "1                                            NaN   \n",
       "2                                            NaN   \n",
       "3                                            NaN   \n",
       "4  https://i.stack.imgur.com/4Y8Zf.jpg?s=128&g=1   \n",
       "\n",
       "                        website_url  \n",
       "0  http://www.ivorthedesigner.co.uk  \n",
       "1               http://icablog.org/  \n",
       "2                         http://na  \n",
       "3              http://ruimarques.io  \n",
       "4    https://www.julesmoorhouse.com  "
      ]
     },
     "execution_count": 4,
     "metadata": {},
     "output_type": "execute_result"
    }
   ],
   "source": [
    "users.head()"
   ]
  },
  {
   "cell_type": "code",
   "execution_count": 5,
   "metadata": {},
   "outputs": [],
   "source": [
    "users.rename(columns = {'id':'user_id'},inplace = True)"
   ]
  },
  {
   "cell_type": "code",
   "execution_count": 6,
   "metadata": {},
   "outputs": [
    {
     "data": {
      "text/html": [
       "<div>\n",
       "<style scoped>\n",
       "    .dataframe tbody tr th:only-of-type {\n",
       "        vertical-align: middle;\n",
       "    }\n",
       "\n",
       "    .dataframe tbody tr th {\n",
       "        vertical-align: top;\n",
       "    }\n",
       "\n",
       "    .dataframe thead th {\n",
       "        text-align: right;\n",
       "    }\n",
       "</style>\n",
       "<table border=\"1\" class=\"dataframe\">\n",
       "  <thead>\n",
       "    <tr style=\"text-align: right;\">\n",
       "      <th></th>\n",
       "      <th>Unnamed: 0</th>\n",
       "      <th>user_id</th>\n",
       "      <th>display_name</th>\n",
       "      <th>about_me</th>\n",
       "      <th>age</th>\n",
       "      <th>creation_date</th>\n",
       "      <th>last_access_date</th>\n",
       "      <th>location</th>\n",
       "      <th>reputation</th>\n",
       "      <th>up_votes</th>\n",
       "      <th>down_votes</th>\n",
       "      <th>views</th>\n",
       "      <th>profile_image_url</th>\n",
       "      <th>website_url</th>\n",
       "    </tr>\n",
       "  </thead>\n",
       "  <tbody>\n",
       "    <tr>\n",
       "      <th>0</th>\n",
       "      <td>0</td>\n",
       "      <td>107658</td>\n",
       "      <td>ivordesign</td>\n",
       "      <td>NaN</td>\n",
       "      <td>NaN</td>\n",
       "      <td>2009-05-15 12:21:51.230000+00:00</td>\n",
       "      <td>2014-08-28 17:43:18.040000+00:00</td>\n",
       "      <td>United Kingdom</td>\n",
       "      <td>305</td>\n",
       "      <td>2</td>\n",
       "      <td>0</td>\n",
       "      <td>91</td>\n",
       "      <td>NaN</td>\n",
       "      <td>http://www.ivorthedesigner.co.uk</td>\n",
       "    </tr>\n",
       "    <tr>\n",
       "      <th>1</th>\n",
       "      <td>1</td>\n",
       "      <td>218597</td>\n",
       "      <td>icabod</td>\n",
       "      <td>NaN</td>\n",
       "      <td>NaN</td>\n",
       "      <td>2009-11-25 13:30:42.460000+00:00</td>\n",
       "      <td>2020-05-29 11:44:18.140000+00:00</td>\n",
       "      <td>United Kingdom</td>\n",
       "      <td>6559</td>\n",
       "      <td>361</td>\n",
       "      <td>25</td>\n",
       "      <td>374</td>\n",
       "      <td>NaN</td>\n",
       "      <td>http://icablog.org/</td>\n",
       "    </tr>\n",
       "    <tr>\n",
       "      <th>2</th>\n",
       "      <td>2</td>\n",
       "      <td>326360</td>\n",
       "      <td>rbaker86</td>\n",
       "      <td>&lt;p&gt;Software developer and technology enthusias...</td>\n",
       "      <td>NaN</td>\n",
       "      <td>2010-04-26 21:18:19.857000+00:00</td>\n",
       "      <td>2017-12-04 16:49:29.297000+00:00</td>\n",
       "      <td>United Kingdom</td>\n",
       "      <td>1802</td>\n",
       "      <td>40</td>\n",
       "      <td>14</td>\n",
       "      <td>97</td>\n",
       "      <td>NaN</td>\n",
       "      <td>http://na</td>\n",
       "    </tr>\n",
       "    <tr>\n",
       "      <th>3</th>\n",
       "      <td>3</td>\n",
       "      <td>379556</td>\n",
       "      <td>Rui Marques</td>\n",
       "      <td>&lt;p&gt;Engineer and Automation Architect at Vonage...</td>\n",
       "      <td>NaN</td>\n",
       "      <td>2010-06-29 23:32:49.870000+00:00</td>\n",
       "      <td>2020-05-28 14:49:23.427000+00:00</td>\n",
       "      <td>United Kingdom</td>\n",
       "      <td>2335</td>\n",
       "      <td>125</td>\n",
       "      <td>10</td>\n",
       "      <td>261</td>\n",
       "      <td>NaN</td>\n",
       "      <td>http://ruimarques.io</td>\n",
       "    </tr>\n",
       "    <tr>\n",
       "      <th>4</th>\n",
       "      <td>4</td>\n",
       "      <td>450456</td>\n",
       "      <td>Jules</td>\n",
       "      <td>NaN</td>\n",
       "      <td>NaN</td>\n",
       "      <td>2010-09-17 09:47:09.397000+00:00</td>\n",
       "      <td>2020-05-13 07:03:58.113000+00:00</td>\n",
       "      <td>United Kingdom</td>\n",
       "      <td>7746</td>\n",
       "      <td>256</td>\n",
       "      <td>50</td>\n",
       "      <td>3598</td>\n",
       "      <td>https://i.stack.imgur.com/4Y8Zf.jpg?s=128&amp;g=1</td>\n",
       "      <td>https://www.julesmoorhouse.com</td>\n",
       "    </tr>\n",
       "  </tbody>\n",
       "</table>\n",
       "</div>"
      ],
      "text/plain": [
       "   Unnamed: 0  user_id display_name  \\\n",
       "0           0   107658   ivordesign   \n",
       "1           1   218597       icabod   \n",
       "2           2   326360     rbaker86   \n",
       "3           3   379556  Rui Marques   \n",
       "4           4   450456        Jules   \n",
       "\n",
       "                                            about_me  age  \\\n",
       "0                                                NaN  NaN   \n",
       "1                                                NaN  NaN   \n",
       "2  <p>Software developer and technology enthusias...  NaN   \n",
       "3  <p>Engineer and Automation Architect at Vonage...  NaN   \n",
       "4                                                NaN  NaN   \n",
       "\n",
       "                      creation_date                  last_access_date  \\\n",
       "0  2009-05-15 12:21:51.230000+00:00  2014-08-28 17:43:18.040000+00:00   \n",
       "1  2009-11-25 13:30:42.460000+00:00  2020-05-29 11:44:18.140000+00:00   \n",
       "2  2010-04-26 21:18:19.857000+00:00  2017-12-04 16:49:29.297000+00:00   \n",
       "3  2010-06-29 23:32:49.870000+00:00  2020-05-28 14:49:23.427000+00:00   \n",
       "4  2010-09-17 09:47:09.397000+00:00  2020-05-13 07:03:58.113000+00:00   \n",
       "\n",
       "         location  reputation  up_votes  down_votes  views  \\\n",
       "0  United Kingdom         305         2           0     91   \n",
       "1  United Kingdom        6559       361          25    374   \n",
       "2  United Kingdom        1802        40          14     97   \n",
       "3  United Kingdom        2335       125          10    261   \n",
       "4  United Kingdom        7746       256          50   3598   \n",
       "\n",
       "                               profile_image_url  \\\n",
       "0                                            NaN   \n",
       "1                                            NaN   \n",
       "2                                            NaN   \n",
       "3                                            NaN   \n",
       "4  https://i.stack.imgur.com/4Y8Zf.jpg?s=128&g=1   \n",
       "\n",
       "                        website_url  \n",
       "0  http://www.ivorthedesigner.co.uk  \n",
       "1               http://icablog.org/  \n",
       "2                         http://na  \n",
       "3              http://ruimarques.io  \n",
       "4    https://www.julesmoorhouse.com  "
      ]
     },
     "execution_count": 6,
     "metadata": {},
     "output_type": "execute_result"
    }
   ],
   "source": [
    "users.head()"
   ]
  },
  {
   "cell_type": "markdown",
   "metadata": {},
   "source": [
    "#### 4. Rename id column to post_id and owner_user_id to user_id"
   ]
  },
  {
   "cell_type": "code",
   "execution_count": 7,
   "metadata": {
    "scrolled": true
   },
   "outputs": [
    {
     "data": {
      "text/html": [
       "<div>\n",
       "<style scoped>\n",
       "    .dataframe tbody tr th:only-of-type {\n",
       "        vertical-align: middle;\n",
       "    }\n",
       "\n",
       "    .dataframe tbody tr th {\n",
       "        vertical-align: top;\n",
       "    }\n",
       "\n",
       "    .dataframe thead th {\n",
       "        text-align: right;\n",
       "    }\n",
       "</style>\n",
       "<table border=\"1\" class=\"dataframe\">\n",
       "  <thead>\n",
       "    <tr style=\"text-align: right;\">\n",
       "      <th></th>\n",
       "      <th>id</th>\n",
       "      <th>owner_user_id</th>\n",
       "      <th>score</th>\n",
       "      <th>view_count</th>\n",
       "      <th>comment_count</th>\n",
       "      <th>favorite_count</th>\n",
       "    </tr>\n",
       "  </thead>\n",
       "  <tbody>\n",
       "    <tr>\n",
       "      <th>0</th>\n",
       "      <td>30336926</td>\n",
       "      <td>NaN</td>\n",
       "      <td>1</td>\n",
       "      <td>14</td>\n",
       "      <td>3</td>\n",
       "      <td>NaN</td>\n",
       "    </tr>\n",
       "    <tr>\n",
       "      <th>1</th>\n",
       "      <td>36873524</td>\n",
       "      <td>NaN</td>\n",
       "      <td>1</td>\n",
       "      <td>18</td>\n",
       "      <td>0</td>\n",
       "      <td>1.0</td>\n",
       "    </tr>\n",
       "    <tr>\n",
       "      <th>2</th>\n",
       "      <td>36605876</td>\n",
       "      <td>NaN</td>\n",
       "      <td>1</td>\n",
       "      <td>19</td>\n",
       "      <td>0</td>\n",
       "      <td>NaN</td>\n",
       "    </tr>\n",
       "    <tr>\n",
       "      <th>3</th>\n",
       "      <td>36718461</td>\n",
       "      <td>NaN</td>\n",
       "      <td>1</td>\n",
       "      <td>17</td>\n",
       "      <td>0</td>\n",
       "      <td>NaN</td>\n",
       "    </tr>\n",
       "    <tr>\n",
       "      <th>4</th>\n",
       "      <td>30434893</td>\n",
       "      <td>NaN</td>\n",
       "      <td>0</td>\n",
       "      <td>15</td>\n",
       "      <td>0</td>\n",
       "      <td>NaN</td>\n",
       "    </tr>\n",
       "  </tbody>\n",
       "</table>\n",
       "</div>"
      ],
      "text/plain": [
       "         id  owner_user_id  score  view_count  comment_count  favorite_count\n",
       "0  30336926            NaN      1          14              3             NaN\n",
       "1  36873524            NaN      1          18              0             1.0\n",
       "2  36605876            NaN      1          19              0             NaN\n",
       "3  36718461            NaN      1          17              0             NaN\n",
       "4  30434893            NaN      0          15              0             NaN"
      ]
     },
     "execution_count": 7,
     "metadata": {},
     "output_type": "execute_result"
    }
   ],
   "source": [
    "posts.head()"
   ]
  },
  {
   "cell_type": "code",
   "execution_count": 8,
   "metadata": {},
   "outputs": [],
   "source": [
    "posts.rename(columns = {'id':'post_id', \"owner_user_id\":\"user_id\"},inplace = True)"
   ]
  },
  {
   "cell_type": "code",
   "execution_count": 9,
   "metadata": {},
   "outputs": [
    {
     "data": {
      "text/html": [
       "<div>\n",
       "<style scoped>\n",
       "    .dataframe tbody tr th:only-of-type {\n",
       "        vertical-align: middle;\n",
       "    }\n",
       "\n",
       "    .dataframe tbody tr th {\n",
       "        vertical-align: top;\n",
       "    }\n",
       "\n",
       "    .dataframe thead th {\n",
       "        text-align: right;\n",
       "    }\n",
       "</style>\n",
       "<table border=\"1\" class=\"dataframe\">\n",
       "  <thead>\n",
       "    <tr style=\"text-align: right;\">\n",
       "      <th></th>\n",
       "      <th>post_id</th>\n",
       "      <th>user_id</th>\n",
       "      <th>score</th>\n",
       "      <th>view_count</th>\n",
       "      <th>comment_count</th>\n",
       "      <th>favorite_count</th>\n",
       "    </tr>\n",
       "  </thead>\n",
       "  <tbody>\n",
       "    <tr>\n",
       "      <th>0</th>\n",
       "      <td>30336926</td>\n",
       "      <td>NaN</td>\n",
       "      <td>1</td>\n",
       "      <td>14</td>\n",
       "      <td>3</td>\n",
       "      <td>NaN</td>\n",
       "    </tr>\n",
       "    <tr>\n",
       "      <th>1</th>\n",
       "      <td>36873524</td>\n",
       "      <td>NaN</td>\n",
       "      <td>1</td>\n",
       "      <td>18</td>\n",
       "      <td>0</td>\n",
       "      <td>1.0</td>\n",
       "    </tr>\n",
       "    <tr>\n",
       "      <th>2</th>\n",
       "      <td>36605876</td>\n",
       "      <td>NaN</td>\n",
       "      <td>1</td>\n",
       "      <td>19</td>\n",
       "      <td>0</td>\n",
       "      <td>NaN</td>\n",
       "    </tr>\n",
       "    <tr>\n",
       "      <th>3</th>\n",
       "      <td>36718461</td>\n",
       "      <td>NaN</td>\n",
       "      <td>1</td>\n",
       "      <td>17</td>\n",
       "      <td>0</td>\n",
       "      <td>NaN</td>\n",
       "    </tr>\n",
       "    <tr>\n",
       "      <th>4</th>\n",
       "      <td>30434893</td>\n",
       "      <td>NaN</td>\n",
       "      <td>0</td>\n",
       "      <td>15</td>\n",
       "      <td>0</td>\n",
       "      <td>NaN</td>\n",
       "    </tr>\n",
       "  </tbody>\n",
       "</table>\n",
       "</div>"
      ],
      "text/plain": [
       "    post_id  user_id  score  view_count  comment_count  favorite_count\n",
       "0  30336926      NaN      1          14              3             NaN\n",
       "1  36873524      NaN      1          18              0             1.0\n",
       "2  36605876      NaN      1          19              0             NaN\n",
       "3  36718461      NaN      1          17              0             NaN\n",
       "4  30434893      NaN      0          15              0             NaN"
      ]
     },
     "execution_count": 9,
     "metadata": {},
     "output_type": "execute_result"
    }
   ],
   "source": [
    "posts.head()"
   ]
  },
  {
   "cell_type": "markdown",
   "metadata": {},
   "source": [
    "#### 5. Define new dataframes for users and posts with the following selected columns:\n",
    "    **users columns**: user_id, reputation,views,up_votes,down_votes\n",
    "    **posts columns**: post_id, score,user_id,view_count,comment_count"
   ]
  },
  {
   "cell_type": "code",
   "execution_count": 10,
   "metadata": {},
   "outputs": [],
   "source": [
    "users = users.reindex(columns = [\"user_id\",\"reputation\",\"views\",\"up_votes\",\"down_votes\"])"
   ]
  },
  {
   "cell_type": "code",
   "execution_count": 11,
   "metadata": {},
   "outputs": [],
   "source": [
    "posts = posts.reindex(columns = [\"post_id\", \"score\",\"user_id\",\"view_count\",\"comment_count\"])"
   ]
  },
  {
   "cell_type": "code",
   "execution_count": 12,
   "metadata": {},
   "outputs": [
    {
     "data": {
      "text/plain": [
       "(14848, 5)"
      ]
     },
     "execution_count": 12,
     "metadata": {},
     "output_type": "execute_result"
    }
   ],
   "source": [
    "users.shape"
   ]
  },
  {
   "cell_type": "code",
   "execution_count": 13,
   "metadata": {},
   "outputs": [
    {
     "data": {
      "text/plain": [
       "(325610, 5)"
      ]
     },
     "execution_count": 13,
     "metadata": {},
     "output_type": "execute_result"
    }
   ],
   "source": [
    "posts.shape"
   ]
  },
  {
   "cell_type": "markdown",
   "metadata": {},
   "source": [
    "#### 6. Merge both dataframes, users and posts. \n",
    "You will need to make a [merge](https://pandas.pydata.org/pandas-docs/stable/generated/pandas.DataFrame.merge.html) of posts and users dataframes."
   ]
  },
  {
   "cell_type": "code",
   "execution_count": 14,
   "metadata": {},
   "outputs": [],
   "source": [
    "merged_dataframe = pd.merge(users,posts,on=\"user_id\")"
   ]
  },
  {
   "cell_type": "markdown",
   "metadata": {},
   "source": [
    "#### 7. How many missing values do you have in your merged dataframe? "
   ]
  },
  {
   "cell_type": "code",
   "execution_count": 16,
   "metadata": {},
   "outputs": [
    {
     "name": "stdout",
     "output_type": "stream",
     "text": [
      "<class 'pandas.core.frame.DataFrame'>\n",
      "Int64Index: 1065 entries, 0 to 1064\n",
      "Data columns (total 9 columns):\n",
      " #   Column         Non-Null Count  Dtype\n",
      "---  ------         --------------  -----\n",
      " 0   user_id        1065 non-null   int64\n",
      " 1   reputation     1065 non-null   int64\n",
      " 2   views          1065 non-null   int64\n",
      " 3   up_votes       1065 non-null   int64\n",
      " 4   down_votes     1065 non-null   int64\n",
      " 5   post_id        1065 non-null   int64\n",
      " 6   score          1065 non-null   int64\n",
      " 7   view_count     1065 non-null   int64\n",
      " 8   comment_count  1065 non-null   int64\n",
      "dtypes: int64(9)\n",
      "memory usage: 83.2 KB\n"
     ]
    }
   ],
   "source": [
    "merged_dataframe.info()"
   ]
  },
  {
   "cell_type": "code",
   "execution_count": 18,
   "metadata": {},
   "outputs": [
    {
     "data": {
      "text/plain": [
       "user_id  reputation  views  up_votes  down_votes  post_id  score  view_count  comment_count\n",
       "False    False       False  False     False       False    False  False       False            1065\n",
       "dtype: int64"
      ]
     },
     "execution_count": 18,
     "metadata": {},
     "output_type": "execute_result"
    }
   ],
   "source": [
    "merged_dataframe.isna().value_counts()"
   ]
  },
  {
   "cell_type": "markdown",
   "metadata": {},
   "source": [
    "There are no missing values"
   ]
  },
  {
   "cell_type": "markdown",
   "metadata": {},
   "source": [
    "#### Bonus: Identify extreme values in your merged dataframe, create a dataframe called outliers with the same columns as our data set and calculate the bounds. The values of the outliers dataframe will be the values of the merged_df that fall outside that bounds. You will need to save your outliers dataframe to a csv file on your-code folder. Hint: post_id cannot have outliers!"
   ]
  }
 ],
 "metadata": {
  "kernelspec": {
   "display_name": "Python 3",
   "language": "python",
   "name": "python3"
  },
  "language_info": {
   "codemirror_mode": {
    "name": "ipython",
    "version": 3
   },
   "file_extension": ".py",
   "mimetype": "text/x-python",
   "name": "python",
   "nbconvert_exporter": "python",
   "pygments_lexer": "ipython3",
   "version": "3.8.5"
  },
  "toc": {
   "base_numbering": 1,
   "nav_menu": {},
   "number_sections": true,
   "sideBar": true,
   "skip_h1_title": false,
   "title_cell": "Table of Contents",
   "title_sidebar": "Contents",
   "toc_cell": false,
   "toc_position": {},
   "toc_section_display": true,
   "toc_window_display": false
  },
  "varInspector": {
   "cols": {
    "lenName": 16,
    "lenType": 16,
    "lenVar": 40
   },
   "kernels_config": {
    "python": {
     "delete_cmd_postfix": "",
     "delete_cmd_prefix": "del ",
     "library": "var_list.py",
     "varRefreshCmd": "print(var_dic_list())"
    },
    "r": {
     "delete_cmd_postfix": ") ",
     "delete_cmd_prefix": "rm(",
     "library": "var_list.r",
     "varRefreshCmd": "cat(var_dic_list()) "
    }
   },
   "types_to_exclude": [
    "module",
    "function",
    "builtin_function_or_method",
    "instance",
    "_Feature"
   ],
   "window_display": false
  }
 },
 "nbformat": 4,
 "nbformat_minor": 2
}
